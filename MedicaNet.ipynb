{
 "cells": [
  {
   "cell_type": "code",
   "execution_count": 1,
   "metadata": {},
   "outputs": [
    {
     "name": "stderr",
     "output_type": "stream",
     "text": [
      "F:\\Python\\Anaconda3\\lib\\importlib\\_bootstrap.py:219: RuntimeWarning: numpy.ufunc size changed, may indicate binary incompatibility. Expected 216, got 192\n",
      "  return f(*args, **kwds)\n",
      "F:\\Python\\Anaconda3\\lib\\importlib\\_bootstrap.py:219: RuntimeWarning: numpy.ufunc size changed, may indicate binary incompatibility. Expected 192 from C header, got 216 from PyObject\n",
      "  return f(*args, **kwds)\n"
     ]
    }
   ],
   "source": [
    "%matplotlib inline\n",
    "%config InlineBackend.figure_format = 'retina'\n",
    "\n",
    "import pandas as pd\n",
    "import numpy as np\n",
    "\n",
    "import torch\n",
    "import torch.nn as nn\n",
    "import torch.optim as optim\n",
    "from torch.utils.data import DataLoader,Dataset\n",
    "import torchvision\n",
    "from torchvision import datasets,transforms,models\n",
    "\n",
    "from sklearn.model_selection import train_test_split\n",
    "\n",
    "import help\n",
    "from MyDataSet import MyDataset\n",
    "from medicalnet_model import generate_model"
   ]
  },
  {
   "cell_type": "code",
   "execution_count": 2,
   "metadata": {},
   "outputs": [],
   "source": [
    "X_train, X_val, y_train, y_val = train_test_split(help.features,help.labels['label'].values,test_size = 0.2,random_state = 42,stratify=help.labels['label'].values)"
   ]
  },
  {
   "cell_type": "code",
   "execution_count": null,
   "metadata": {},
   "outputs": [],
   "source": [
    "train_datasets = MyDataset(datas=X_train,labels=y_train,shape=3,input_D=help.input_D,input_H=help.input_H,input_W=help.input_W,phase='train')\n",
    "val_datasets = MyDataset(datas=X_val,labels=y_val,shape=3,input_D=help.input_D,input_H=help.input_H,input_W=help.input_W,phase='train')\n",
    "#test_datasets = help.MyDataset(images=X_test,labels=y_test,shape=3,input_D=help.input_D,input_H=help.input_H,input_W=help.input_W)\n",
    "\n",
    "train_loader = torch.utils.data.DataLoader(dataset=train_datasets, batch_size=2, shuffle=False)\n",
    "val_loader = torch.utils.data.DataLoader(dataset=val_datasets, batch_size=1, shuffle=False)"
   ]
  },
  {
   "cell_type": "code",
   "execution_count": null,
   "metadata": {},
   "outputs": [],
   "source": [
    "checkpoint = torch.load(help.checkpoint_pretrain_resnet_10_23dataset,map_location=help.device)"
   ]
  },
  {
   "cell_type": "code",
   "execution_count": null,
   "metadata": {},
   "outputs": [],
   "source": [
    "medicanet_resnet3d_10,parameters = generate_model(sample_input_W=help.input_W,\n",
    "                                                   sample_input_H=help.input_H,\n",
    "                                                   sample_input_D=help.input_D,\n",
    "                                                   num_seg_classes=help.num_seg_classes,\n",
    "                                                   phase='train',\n",
    "                                                   pretrain_path=help.checkpoint_pretrain_resnet_10_23dataset)\n",
    "params = [\n",
    "        { 'params': parameters['base_parameters'], 'lr': sets.learning_rate }, \n",
    "        { 'params': parameters['new_parameters'], 'lr': sets.learning_rate*100 }\n",
    "        ]\n",
    "optimizer = optim.Adam(params, weight_decay=1e-3)\n",
    "scheduler = optim.lr_scheduler.ExponentialLR(optimizer, gamma=0.99)"
   ]
  },
  {
   "cell_type": "code",
   "execution_count": null,
   "metadata": {},
   "outputs": [],
   "source": [
    "epochs = 100\n",
    "help.train_data(medicanet_resnet3d_10,train_loader,val_loader,epochs,optimizer,scheduler,help.criterion,help.medicanet_3d_resnet10_checkpoint_path,help.device)"
   ]
  },
  {
   "cell_type": "code",
   "execution_count": null,
   "metadata": {},
   "outputs": [],
   "source": [
    "medicanet_resnet3d_10 = generate_model(sample_input_W=help.input_W,\n",
    "                                       sample_input_H=help.input_H,\n",
    "                                       sample_input_D=help.input_D,\n",
    "                                       num_seg_classes=help.num_seg_classes,\n",
    "                                       phase='train',\n",
    "                                       pretrain_path=help.checkpoint_pretrain_resnet_10_23dataset)\n",
    "model_dict = medicanet_resnet3d_10.state_dict()\n",
    "####去除不属于model_dict的键值\n",
    "pretrained_dict={ k : v for k, v in checkpoint.get('state_dict').items() if k in model_dict.keys()}\n",
    "###更新现有的model_dict的值\n",
    "model_dict.update(pretrained_dict)\n",
    "medicanet_resnet3d_10.load_state_dict(model_dict)\n",
    "    \n",
    "for param in medicanet_resnet3d_10.parameters():\n",
    "    param.requires_grad = False\n",
    "for layer in [medicanet_resnet3d_10.avgpool,medicanet_resnet3d_10.fc]:\n",
    "    for name, value in layer.named_parameters():\n",
    "        value.requires_grad = True"
   ]
  },
  {
   "cell_type": "code",
   "execution_count": null,
   "metadata": {},
   "outputs": [],
   "source": [
    "epochs = 100\n",
    "medicanet_3d_resnet10_checkpoint_path = 'medicanet_3d_resnet10_checkpoint}.pth'.format(ii)\n",
    "params = [{'params':medicanet_resnet3d_10.avgpool.parameters()},{'params':medicanet_resnet3d_10.fc.parameters()}]\n",
    "optimizer = optim.SGD(params,momentum=0.9, lr=0.001, weight_decay=1e-3)\n",
    "scheduler = optim.lr_scheduler.ExponentialLR(optimizer, gamma=0.99)\n",
    "help.train_data(medicanet_resnet3d_10,train_loader,val_loader,epochs,optimizer,scheduler,help.print_every,help.criterion,medicanet_3d_resnet10_checkpoint_path,help.device)\n"
   ]
  },
  {
   "cell_type": "code",
   "execution_count": null,
   "metadata": {},
   "outputs": [],
   "source": [
    "test_datasets = MyDataset(datas=help.temp_data,shape=3,input_D=help.input_D,input_H=help.input_H,input_W=help.input_W,phase='test')\n",
    "test_loader = DataLoader(dataset=test_datasets)"
   ]
  },
  {
   "cell_type": "code",
   "execution_count": null,
   "metadata": {},
   "outputs": [],
   "source": [
    "loadmodel = help.load_checkpoint(help.medicanet_3d_resnet10_checkpoint_path,'medicanet_resnet3d_10','test',help.device)\n",
    "help.all_predict(test_loader,loadmodel,help.device,help.result_medicanet_3d_resnet10)"
   ]
  }
 ],
 "metadata": {
  "kernelspec": {
   "display_name": "Python 3",
   "language": "python",
   "name": "python3"
  },
  "language_info": {
   "codemirror_mode": {
    "name": "ipython",
    "version": 3
   },
   "file_extension": ".py",
   "mimetype": "text/x-python",
   "name": "python",
   "nbconvert_exporter": "python",
   "pygments_lexer": "ipython3",
   "version": "3.7.1"
  }
 },
 "nbformat": 4,
 "nbformat_minor": 2
}
